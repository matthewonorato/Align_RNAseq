{
 "cells": [
  {
   "cell_type": "markdown",
   "metadata": {
    "jp-MarkdownHeadingCollapsed": true
   },
   "source": [
    "# Goals\n",
    "**[Script]** QC → trim → QC → align → sort/index → QC → quantify → report (agg. QC)\n",
    "- Align reads from RNAseq samples to a reference in order to quantify genes and transcripts\n",
    "- **[Benchmark](https://www.nature.com/articles/s41598-020-76881-x):** RSEM / HTSeq Union for counting and TMM for normalization are the most accurate\n",
    "- **RNAseq Exp. Design (key point is to run pilot study 1st):** [Guide #1](https://www.melbournebioinformatics.org.au/tutorials/tutorials/rna_seq_exp_design/rna_seq_experimental_design/) // [Guide #2](https://www.lexogen.com/planning-for-success-a-strategic-design-guide-for-rna-seq-experiments-in-drug-discovery/)\n",
    "    - **RNAseq sample prep:** Use RNA extraction kit to isolate RNA, remove contaminants such as genomic DNA, enrich mRNA (polyA: magnetic beads, rRNA depletion: probes), synthesize cDNA, fragment cDNA, create library for NGS sequencing (cDNA + ligated adapters), use genome assembly reference to align cDNA reads (or de novo assemble)\n",
    "\n",
    "**[Overall]**\n",
    "Identify and account for issues during RNAseq sample prep, such as:\n",
    "- **Degraded RNA:** low RNA integrity number (RIN) and shorter reads → use rRNA depletion instead of polyA selection\n",
    "    - **Good RNA RIN 6-8:** RNA samples typically display two major peaks representing the 18S and 28S ribosomal RNA\n",
    "    - **Degraded RNA RIN <6:** As total RNA degrades, the 18S and 28S rRNA peaks slowly disappear and the degradation products emerge in the region between the 18S and small RNAs\n",
    "- **rRNA contamination:** high mapping rates to rRNA, since it is much more abundant than mRNA\n",
    "- **Batch effects:** different sequencers, batches, etc. → [randomize samples](https://scilifelab.github.io/courses/ngsintro/1910/slides/rnaseq/presentation.html#6)\n",
    "- **Low RNA input:** non-equimolar RNA across samples\n",
    "- **DNA contamination:** high [DNA] → remove with DNase\n",
    "- **PCR amplification bias:** usually for reads with neutral GC content\n",
    "- **More:** non-random RNA fragmentation, adapter-dimer formation, primer bias (random seqs are best)\n",
    "\n",
    "**[To Do]**\n",
    "1. Add rRNA removal with SortMeRNA + Ribosomal DB like silvaDB for 18S (small) and 28S (large) or Rfam/GenBank/RefSeq for 5S (canonical)\n",
    "2. Add `nextflow cloud` [in GCP](https://www.nextflow.io/docs/latest/google.html) // [nextflow.config](https://www.nextflow.io/docs/latest/config.html) // [nf-core RNAseq](https://github.com/nf-core/rnaseq)\n",
    "3. Add `ht-seq --mode=union` to compare with RSEM and STAR gene counts ([htseq1](https://htseq.readthedocs.io/en/latest/tutorials/exon_example.html#tutorial-htseq), [htseq2](https://htseq.readthedocs.io/en/latest/htseqcount.html))"
   ]
  },
  {
   "cell_type": "markdown",
   "metadata": {},
   "source": [
    "# Packages"
   ]
  },
  {
   "cell_type": "code",
   "execution_count": 1,
   "metadata": {},
   "outputs": [],
   "source": [
    "#########################\n",
    "### Standard Library ####\n",
    "#########################\n",
    "import os\n",
    "import sys\n",
    "import warnings\n",
    "import subprocess\n",
    "from glob import glob\n",
    "\n",
    "######################\n",
    "### Data Handeling ###\n",
    "######################\n",
    "import pandas as pd\n",
    "import numpy as np\n",
    "import VinlandPy as vp\n",
    "\n",
    "####################\n",
    "### Session Info ###\n",
    "####################\n",
    "import session_info"
   ]
  },
  {
   "cell_type": "markdown",
   "metadata": {},
   "source": [
    "## Options"
   ]
  },
  {
   "cell_type": "code",
   "execution_count": null,
   "metadata": {},
   "outputs": [],
   "source": [
    "warnings.simplefilter(action=\"once\", category=Warning)\n",
    "\n",
    "pd.options.display.max_columns = 200\n",
    "pd.options.display.max_colwidth = 100\n",
    "pd.options.display.max_rows = 200"
   ]
  },
  {
   "cell_type": "markdown",
   "metadata": {},
   "source": [
    "## Functions"
   ]
  },
  {
   "cell_type": "code",
   "execution_count": null,
   "metadata": {},
   "outputs": [],
   "source": []
  },
  {
   "cell_type": "markdown",
   "metadata": {},
   "source": [
    "# Parameters"
   ]
  },
  {
   "cell_type": "markdown",
   "metadata": {},
   "source": [
    "## Inputs"
   ]
  },
  {
   "cell_type": "code",
   "execution_count": null,
   "metadata": {},
   "outputs": [],
   "source": [
    "project_name = \"GSE206529\"\n",
    "input_path = f\"./inputs/{project_name}\"\n",
    "output_path = f\"./outputs/{project_name}\"\n",
    "\n",
    "r1_suffix = \"_1\"  # _1.fastq.gz\n",
    "r2_suffix = \"_2\"  # _2.fastq.gz\n",
    "\n",
    "ref_path = \"/mnt/disks/resources/data/references/outputs/Homo_sapiens/ensembl/111/\"\n",
    "star_index_path = os.path.join(ref_path, \"star_index/\")\n",
    "rsem_index_path = os.path.join(ref_path, \"rsem_index/Homo_sapiens.GRCh38.111\")\n",
    "bed12_path = os.path.join(ref_path, \"Homo_sapiens.GRCh38.111.bed12\")\n",
    "\n",
    "print_cmds_only = True\n",
    "run_gene_body_coverage = False\n",
    "run_junction_annotation = False\n",
    "\n",
    "n_threads = vp.set_threads()\n",
    "n_threads"
   ]
  },
  {
   "cell_type": "code",
   "execution_count": null,
   "metadata": {},
   "outputs": [],
   "source": [
    "# Read in metadata with fastq paths\n",
    "df_meta = vp.load_file(\"GSE206529_sample_sheet_for_alignment.csv\")\n",
    "\n",
    "read_ends = df_meta[\"library_layout\"].str.lower().unique()[0]\n",
    "avg_read_lengths = df_meta[[\"r1_read_length\",\"r2_read_length\"]].stack().mean()\n",
    "sd_read_lengths = np.std(df_meta[[\"r1_read_length\",\"r2_read_length\"]].stack().tolist())\n",
    "strandedness = \"reverse\"  # none, forward, reverse\n",
    "\n",
    "read_ends"
   ]
  },
  {
   "cell_type": "code",
   "execution_count": null,
   "metadata": {},
   "outputs": [],
   "source": [
    "# Raw reads\n",
    "raw_fq_path = vp.create_dir(os.path.join(input_path,\"raw_reads\"))\n",
    "\n",
    "if read_ends==\"single\":\n",
    "    raw_fq_names2files = {os.path.basename(f).split(\".\")[0]: [f] for f in df_meta[\"r1_path\"].tolist()}\n",
    "\n",
    "if read_ends==\"paired\":\n",
    "    raw_fq_names2files = {}\n",
    "    for r1_path, r2_path in zip(df_meta[\"r1_path\"], df_meta[\"r2_path\"]):\n",
    "        sample_id = os.path.basename(r1_path).split(\".\")[0].replace(r1_suffix,\"\")\n",
    "        raw_fq_names2files[sample_id] = [r1_path, r2_path]\n",
    "\n",
    "len(raw_fq_names2files)"
   ]
  },
  {
   "cell_type": "code",
   "execution_count": null,
   "metadata": {},
   "outputs": [],
   "source": [
    "# Clean reads\n",
    "clean_fq_path = vp.create_dir(os.path.join(input_path,\"clean_reads\"))\n",
    "\n",
    "clean_fq_names2files = {sample_id: [path.replace(\"raw_reads/\", \"clean_reads/trimmed_\") for path in paths]\\\n",
    "                        for sample_id, paths in raw_fq_names2files.items()}\n",
    "\n",
    "len(clean_fq_names2files)"
   ]
  },
  {
   "cell_type": "markdown",
   "metadata": {},
   "source": [
    "## Outputs"
   ]
  },
  {
   "cell_type": "code",
   "execution_count": null,
   "metadata": {},
   "outputs": [],
   "source": [
    "qc_path = vp.create_dir(os.path.join(output_path,\"qc\"))\n",
    "star_output_path = vp.create_dir(os.path.join(output_path,\"star_output\"))\n",
    "rsem_output_path = vp.create_dir(os.path.join(output_path,\"rsem_output\"))"
   ]
  },
  {
   "cell_type": "markdown",
   "metadata": {},
   "source": [
    "# QC: Raw Reads\n",
    "- **FastQC** to assess raw reads for base quality, GC content, adapter contamination, duplication rates, and more\n",
    "- Need more? `seqkit stats --all` can find min_len, avg_len, max_len, num_seqs, N50, AvgQual, and more"
   ]
  },
  {
   "cell_type": "code",
   "execution_count": null,
   "metadata": {},
   "outputs": [],
   "source": [
    "raw_fq_files = [path for sample_id, paths in raw_fq_names2files.items() for path in paths]\n",
    "\n",
    "cmd_fqc1 = (\n",
    "    f\"/mnt/disks/resources/software/FastQC/fastqc \"\n",
    "    f\"--outdir {qc_path} \"\n",
    "    f\"--threads {n_threads} \"\n",
    "    # f\"--extract \"  # Uncompress zipped output\n",
    "    # f\"--dir /mnt/disks/tmp/ \"  # Path to store temp files; Default: System temp dir\n",
    "    f\"{\" \".join(raw_fq_files)}\"\n",
    ")\n",
    "if print_cmds_only:\n",
    "    print(cmd_fqc1)\n",
    "else:\n",
    "    res_fqc1 = vp.run_cmd(cmd_fqc1)"
   ]
  },
  {
   "cell_type": "markdown",
   "metadata": {},
   "source": [
    "# Trim Reads\n",
    "- **[Fastp](https://github.com/OpenGene/fastp?tab=readme-ov-file#all-options)** (written in C++) to trim reads\n",
    "    - **Remove adapter sequences (auto-detected)**\n",
    "    - **Cut low quality bases** per read by evaluating mean quality from a sliding window (like Trimmomatic but faster)\n",
    "    - **Filter out short reads** after trimming (ex. one-third of original length)\n",
    "    - Correct mismatched base pairs in overlapped regions of paired end reads, if one base is with high quality while the other is with ultra low quality\n",
    "    - *Optional: Trim poly-A/T tails. Remove reads with low complexity (too many Ns).*"
   ]
  },
  {
   "cell_type": "code",
   "execution_count": null,
   "metadata": {},
   "outputs": [],
   "source": [
    "# Bash command: for fqpath in `ls SRX*/*`;  do fqdir=$(echo $fqpath | cut -d '/' -f1); fqname=$(echo $fqpath | cut -d '/' -f2 | cut -d'.' -f1); fastp -i $fqdir/$fqname.fastq.gz -o $fqdir/$fqname.clean.fastq.gz -w 3 --json fastp/$fqname.json --html fastp/$fqname.html --failed_out fastp/$fqname.failed.reads.txt; done\n",
    "for fastq_name, fastq_file in raw_fq_names2files.items():    \n",
    "    cmd_fastp = (\n",
    "        f\"/mnt/disks/resources/software/miniconda3/envs/Py-3.12/bin/fastp \"\n",
    "        f\"--in1 {fastq_file[0]} \"\n",
    "        f\"--out1 {clean_fq_names2files[fastq_name][0]} \"\n",
    "        f\"--thread {n_threads} \"\n",
    "        f\"--length_required {int(avg_read_lengths/3)} \"\n",
    "        f\"--json {os.path.join(qc_path, f\"{fastq_name}_fastp\")}.json \"\n",
    "        f\"--html {os.path.join(qc_path, f\"{fastq_name}_fastp\")}.html\"\n",
    "        # f\"--stdout\"  # Output passing-filters reads to STDOUT\n",
    "        # f\"--failed_out {}.failed.reads.txt \"\n",
    "        # f\"–adapter_fasta \"  # Path to the adapter FASTA file with adapter sequences to trim\n",
    "        # f\"--merge \"  # For PE data, indicate whether to merge reads into a single read if they are overlapped\n",
    "        # f\"--merged_out {path} \"  # For PE data, path to to store merged reads (note: not typically done) \n",
    "        # f\"--length_limit {int(avg_read_lengths*1.5)}\"  # Reads longer than length_limit will be discarded, default 0 means no limitation. (int [=0])\n",
    "        # f\"–trim_front1 N \"  # Trim a fixed number of bases off the left end of read1\n",
    "        # f\"–trim_front2 N \"  # Trim a fixed number of bases off the left end of read2\n",
    "        # f\"--trim_poly_x \"  # Enable polyX trimming in 3' ends\n",
    "    )\n",
    "    \n",
    "    if read_ends==\"paired\":\n",
    "        cmd_fastp = (\n",
    "            f\"{cmd_fastp} \"\n",
    "            f\"--in2 {fastq_file[1]} \"\n",
    "            f\"--out2 {clean_fq_names2files[fastq_name][1]} \"\n",
    "            f\"--detect_adapter_for_pe \"  # Default: adapter sequence auto-detection is enabled for SE data only\n",
    "        )\n",
    "    if print_cmds_only:\n",
    "        print(cmd_fastp)\n",
    "    else:\n",
    "        res_fastp = vp.run_cmd(cmd_fastp)"
   ]
  },
  {
   "cell_type": "markdown",
   "metadata": {},
   "source": [
    "# QC: Post-Trimming\n",
    "- **FastQC** to verify trimming effectiveness, such as improved per-base quality scores, reduced adapter content, and possible removal of overrepresented sequences (ex. poly-G tails in NovaSeq data)"
   ]
  },
  {
   "cell_type": "code",
   "execution_count": null,
   "metadata": {},
   "outputs": [],
   "source": [
    "clean_fq_files = [path for sample_id, paths in clean_fq_names2files.items() for path in paths]\n",
    "\n",
    "cmd_fqc2 = (\n",
    "    f\"/mnt/disks/resources/software/FastQC/fastqc \"\n",
    "    f\"--outdir {qc_path} \"\n",
    "    f\"--threads {n_threads} \"\n",
    "    f\"{\" \".join(clean_fq_files)}\"\n",
    ")\n",
    "if print_cmds_only:\n",
    "    print(cmd_fqc2)\n",
    "else:\n",
    "    res_fqc2 = vp.run_cmd(cmd_fqc2)"
   ]
  },
  {
   "cell_type": "markdown",
   "metadata": {},
   "source": [
    "# Align Reads\n",
    "**[STAR](https://github.com/alexdobin/STAR/blob/master/doc/STARmanual.pdf)** to align reads to a reference genome\n",
    "- STAR is an RNA-Seq aligner that stands for Spliced Transcripts Alignment to a Reference\n",
    "    - It is optimized for gapped alignment across exon junctions and is considered the gold standard\n",
    "- Since some reads will map to 2 different exons, they need to be split into two seeds\n",
    "    - Sometimes when the second seed is extended there will be mismatches (ex. poly-A tail or adapter content), which may be soft clipped\n",
    "- **Note:** STAR defines junction start/end as intronic bases, other software may define them as exonic bases\n",
    "- **More:** STARsolo, STARconsensus, STARdiploid"
   ]
  },
  {
   "cell_type": "code",
   "execution_count": null,
   "metadata": {},
   "outputs": [],
   "source": [
    "for fastq_name, fastq_file in clean_fq_names2files.items():    \n",
    "    cmd_star = (\n",
    "        f\"/mnt/disks/resources/software/STAR-2.7.11b/source/STAR \"\n",
    "        f\"--runMode alignReads \"\n",
    "        f\"--runThreadN {n_threads} \"\n",
    "        f\"--readFilesCommand zcat \"\n",
    "        f\"--genomeDir {star_index_path} \"\n",
    "        f\"--limitBAMsortRAM 20000000000 \"\n",
    "        f\"--outFileNamePrefix {os.path.join(star_output_path,f\"{fastq_name}_\")} \"\n",
    "        f\"--outSAMtype BAM SortedByCoordinate \"  # If problematic, reduce --outBAMsortingThreadN from default 6 to lower values\n",
    "        f\"--outSJtype Standard \"  # Set to None to disable writing of SJ.out.tab files\n",
    "        f\"--quantMode TranscriptomeSAM\"  # Aligned.toTranscriptome.out.bam; GeneCounts (not used): coincide with those from htseq-count with default parameters\n",
    "        # f\"--clipAdapterType None \"\n",
    "        # f\"--sjdbOverhang {int(max(read_lengths)-1)} \"  # Error: --sjdbOverhang=60 is not equal to the value at the genome generation step =100\n",
    "        # f\"--outTmpDir /mnt/disks/resources \"  # Error; Remove from boot disk, which only has 100 Gb\n",
    "        # f\"--peOverlapNbasesMin \"  # More accurate mapping accuracy for paired-end libraries with short insert sizes\n",
    "        # f\"--twopassMode Basic \"  # Need novel junctions? Idea is to run 1st pass of STAR mapping with the usual parameters, then collect the junctions detected in the first pass, and use them as ”annotated” junctions for the 2nd pass mapping\"\n",
    "        # f\"--varVCFfile {vcf_path}\"  # Path to custom VCF file\n",
    "        # See \"All options\" section in manual for more. STAR has a crazy number of options.\n",
    "    )\n",
    "\n",
    "    if read_ends==\"single\":\n",
    "        cmd_star = (\n",
    "            f\"{cmd_star} \"\n",
    "            f\"--readFilesIn {fastq_file[0]}\"\n",
    "        )\n",
    "\n",
    "    if read_ends==\"paired\":\n",
    "        cmd_star = (\n",
    "            f\"{cmd_star} \"\n",
    "            f\"--readFilesIn {fastq_file[0]} {fastq_file[1]}\"\n",
    "        )\n",
    "\n",
    "    if print_cmds_only:\n",
    "        print(cmd_star)\n",
    "    else:\n",
    "        res_star = vp.run_cmd(cmd_star)"
   ]
  },
  {
   "cell_type": "markdown",
   "metadata": {},
   "source": [
    "# Index BAMs"
   ]
  },
  {
   "cell_type": "code",
   "execution_count": null,
   "metadata": {},
   "outputs": [],
   "source": [
    "bam_files = glob(os.path.join(star_output_path, \"**\", \"*\"), recursive=True)\n",
    "bam_files = [f for f in bam_files if f.endswith(\"Aligned.sortedByCoord.out.bam\")]\n",
    "\n",
    "bam_names2files = {os.path.basename(f).split(\"_\")[0]: f for f in bam_files}\n",
    "len(bam_names2files)"
   ]
  },
  {
   "cell_type": "code",
   "execution_count": null,
   "metadata": {},
   "outputs": [],
   "source": [
    "for bam_file in bam_files:    \n",
    "    cmd_bai = (\n",
    "        f\"/mnt/disks/resources/software/samtools-1.20/samtools index \"\n",
    "        f\"--bai \"\n",
    "        f\"--output {bam_file+\".bai\"} \"\n",
    "        f\"--threads {n_threads} \"\n",
    "        f\"{bam_file}\"\n",
    "    )\n",
    "    if print_cmds_only:\n",
    "        print(cmd_bai)\n",
    "    else:\n",
    "        res_bai = vp.run_cmd(cmd_bai)"
   ]
  },
  {
   "cell_type": "markdown",
   "metadata": {},
   "source": [
    "# QC: Post-Alignment\n",
    "**RSeQC** to assess strandedness, gene features, and RNA degradation (3' bias)\n",
    "- **infer-experiment:** Unstranded means reads can map to either strand (for large scale expression; less expensive)\n",
    "    - Strandedness preserves original strand info\n",
    "        - For novel transcript discovery, overlapping genes, correct read assignment for alternative splice sites\n",
    "- **genebody-coverage:** RNA degradation occurs from 5' to 3', so if there is a 3' bias (e.g. higher % of 3'-UTR in RSeqQC) it is an indication of poor RNA prep. This can lead to poor coverage, poorly mapped reads, and high MT content.\n",
    "- **Note: Do not remove duplicate reads**, since these are biological duplicates (highly expressed genes), and removal risks losing valid data"
   ]
  },
  {
   "cell_type": "code",
   "execution_count": null,
   "metadata": {},
   "outputs": [],
   "source": [
    "if run_gene_body_coverage:\n",
    "    for bam_name, bam_file in bam_names2files.items():    \n",
    "        cmd_rseqc1 = (\n",
    "            f\"/mnt/disks/resources/software/miniconda3/envs/Py-3.12/bin/geneBody_coverage.py \"\n",
    "            f\"--refgene={bed12_path} \"\n",
    "            f\"--input={bam_file} \"\n",
    "            f\"--out-prefix={os.path.join(qc_path,f\"{bam_name}\")} \"\n",
    "            f\"--format=png\"\n",
    "        )\n",
    "        if print_cmds_only:\n",
    "            print(cmd_rseqc1)\n",
    "        else:\n",
    "            res_rseqc1 = vp.run_cmd(cmd_rseqc1)"
   ]
  },
  {
   "cell_type": "code",
   "execution_count": null,
   "metadata": {},
   "outputs": [],
   "source": [
    "for bam_name, bam_file in bam_names2files.items():    \n",
    "    cmd_rseqc2 = (\n",
    "        f\"/mnt/disks/resources/software/miniconda3/envs/Py-3.12/bin/infer_experiment.py \"\n",
    "        f\"--refgene={bed12_path} \"\n",
    "        f\"--input={bam_file} \"\n",
    "        f\"--sample-size=2000000 \"\n",
    "        f\"> {os.path.join(qc_path, f\"{bam_name}.inferExperiment.txt\")}\"\n",
    "    )\n",
    "    if print_cmds_only:\n",
    "        print(cmd_rseqc2)\n",
    "    else:\n",
    "        res_rseqc2 = vp.run_cmd(cmd_rseqc2)"
   ]
  },
  {
   "cell_type": "code",
   "execution_count": null,
   "metadata": {},
   "outputs": [],
   "source": [
    "for bam_name, bam_file in bam_names2files.items():    \n",
    "    cmd_rseqc3 = (\n",
    "        f\"/mnt/disks/resources/software/miniconda3/envs/Py-3.12/bin/read_distribution.py \"\n",
    "        f\"--refgene={bed12_path} \"\n",
    "        f\"--input={bam_file} \"\n",
    "        f\"> {os.path.join(qc_path, f\"{bam_name}.readDistribution.txt\")}\"\n",
    "    )\n",
    "    if print_cmds_only:\n",
    "        print(cmd_rseqc3)\n",
    "    else:\n",
    "        res_rseqc3 = vp.run_cmd(cmd_rseqc3)"
   ]
  },
  {
   "cell_type": "code",
   "execution_count": null,
   "metadata": {},
   "outputs": [],
   "source": [
    "if run_junction_annotation:\n",
    "    for bam_name, bam_file in bam_names2files.items():    \n",
    "        cmd_rseqc4 = (\n",
    "            f\"/mnt/disks/resources/software/miniconda3/envs/Py-3.12/bin/junction_annotation.py \"\n",
    "            f\"--refgene={bed12_path} \"\n",
    "            f\"--input={bam_file} \"\n",
    "            f\"--out-prefix={os.path.join(qc_path,f\"{bam_name}\")}\"\n",
    "        )\n",
    "        if print_cmds_only:\n",
    "            print(cmd_rseqc4)\n",
    "        else:\n",
    "            res_rseqc4 = vp.run_cmd(cmd_rseqc4)"
   ]
  },
  {
   "cell_type": "markdown",
   "metadata": {},
   "source": [
    "# Quantify Genes & Transcripts\n",
    "**[RSEM](https://github.com/deweylab/RSEM)** to quantify the expression of genes and transcript\n",
    "- Handles reads that map to multiple genes or isoforms\n",
    "- Useful for de novo transcriptome assemblies as it does not rely on a reference genome\n",
    "- For paired-end data, RSEM will automatically learn a fragment length distribution from the data\n",
    "- Need bigWig? `rsem-bam2wig sorted_bam_input wig_output wiggle_name`\n",
    "\n",
    "**How does RSEM count a read that maps to more than one transcript of the same gene?**\n",
    "- At the transcript level, RSEM assigns a fractional count of the read to each transcript, based on the expression estimates of those transcripts (expectation-maximization algorithm)\n",
    "- At the gene level, RSEM sums the expected counts from all transcripts belonging to the same gene\n",
    "- More accurate than discarding ambiguous reads or counting them multiple times"
   ]
  },
  {
   "cell_type": "code",
   "execution_count": null,
   "metadata": {},
   "outputs": [],
   "source": [
    "bam_tx_files = glob(os.path.join(star_output_path, \"**\", \"*\"), recursive=True)\n",
    "bam_tx_files = [f for f in bam_tx_files if f.endswith(\"Aligned.toTranscriptome.out.bam\")]\n",
    "\n",
    "bam_tx_names2files = {os.path.basename(f).split(\"_\")[0]: f for f in bam_tx_files}\n",
    "len(bam_tx_names2files)"
   ]
  },
  {
   "cell_type": "code",
   "execution_count": null,
   "metadata": {},
   "outputs": [],
   "source": [
    "# Syntax: rsem-calculate-expression [options] --alignments [--paired-end] input reference_name sample_name\n",
    "for bam_name, bam_file in bam_tx_names2files.items():    \n",
    "    cmd_rsem = (\n",
    "        f\"/mnt/disks/resources/software/RSEM-1.3.3/rsem-calculate-expression \"\n",
    "        f\"--alignments \"\n",
    "        f\"--strandedness {strandedness} \"\n",
    "        f\"--num-threads {n_threads} \"\n",
    "        f\"--no-bam-output \"  # --output-genome-bam: Only if BAM is genome-aligned\n",
    "        # f\"--chipseq-peak-file \"  # See docs for more chipseq options\n",
    "    )\n",
    "    \n",
    "    if read_ends==\"single\":\n",
    "        cmd_rsem = (\n",
    "            f\"{cmd_rsem}\"\n",
    "            f\"--fragment-length-mean {avg_read_lengths} \"\n",
    "            f\"--fragment-length-sd {sd_read_lengths}\"\n",
    "        )\n",
    "    \n",
    "    if read_ends==\"paired\":\n",
    "        cmd_rsem = (\n",
    "            f\"{cmd_rsem}\"\n",
    "            f\"--paired-end\"\n",
    "        )\n",
    "    \n",
    "    cmd_rsem = (\n",
    "        f\"{cmd_rsem} \"\n",
    "        f\"{bam_file} \"\n",
    "        f\"{rsem_index_path} \"\n",
    "        f\"{os.path.join(rsem_output_path, f\"{bam_name}\")}\"\n",
    "    )\n",
    "    if print_cmds_only:\n",
    "        print(cmd_rsem)\n",
    "    else:\n",
    "        res_rsem = vp.run_cmd(cmd_rsem)"
   ]
  },
  {
   "cell_type": "markdown",
   "metadata": {},
   "source": [
    "# QC: Aggregate QC metrics\n",
    "**[MultiQC](https://docs.seqera.io/multiqc/modules/)** to report all QC metrics across samples (uniquely mapped reads, duplicate reads, etc.)\n",
    "- MultiQC is a reporting tool that parses and summarises statistics from bioinformatics tool outputs, such as log files and console outputs. "
   ]
  },
  {
   "cell_type": "code",
   "execution_count": null,
   "metadata": {},
   "outputs": [],
   "source": [
    "cmd_mqc = (\n",
    "    f\"/mnt/disks/resources/software/miniconda3/envs/Py-3.12/bin/multiqc \"\n",
    "    f\"--filename multiqc_report_{project_name} \"\n",
    "    f\"--outdir {qc_path} \"\n",
    "    f\"{qc_path} {star_output_path}\"  # Looks recursively through subdirs\n",
    "    # f\"--ai-summary \"  # Requires token from seqera or openai\n",
    "    # f\"--export \"\n",
    "    # f\"--title {report_tile}\"\n",
    ")\n",
    "if print_cmds_only:\n",
    "    print(cmd_mqc)\n",
    "else:\n",
    "    res_mqc = vp.run_cmd(cmd_mqc)"
   ]
  },
  {
   "cell_type": "markdown",
   "metadata": {},
   "source": [
    "# Session info"
   ]
  },
  {
   "cell_type": "code",
   "execution_count": 2,
   "metadata": {
    "scrolled": true
   },
   "outputs": [
    {
     "data": {
      "text/html": [
       "<details>\n",
       "<summary>Click to view session information</summary>\n",
       "<pre>\n",
       "-----\n",
       "VinlandPy           NA\n",
       "numpy               1.26.4\n",
       "pandas              2.2.2\n",
       "session_info        1.0.0\n",
       "-----\n",
       "IPython             8.25.0\n",
       "jupyter_client      8.6.2\n",
       "jupyter_core        5.5.0\n",
       "jupyterlab          4.2.2\n",
       "-----\n",
       "Python 3.12.3 | packaged by Anaconda, Inc. | (main, May  6 2024, 19:46:43) [GCC 11.2.0]\n",
       "Linux-6.8.0-1033-gcp-x86_64-with-glibc2.35\n",
       "-----\n",
       "Session information updated at 2025-09-03 13:59\n",
       "</pre>\n",
       "</details>"
      ],
      "text/plain": [
       "<IPython.core.display.HTML object>"
      ]
     },
     "execution_count": 2,
     "metadata": {},
     "output_type": "execute_result"
    }
   ],
   "source": [
    "session_info.show(os=True, std_lib=False, dependencies=False)"
   ]
  },
  {
   "cell_type": "code",
   "execution_count": 3,
   "metadata": {},
   "outputs": [
    {
     "name": "stdout",
     "output_type": "stream",
     "text": [
      "-----\n",
      "FastQC    0.12.1\n",
      "fastp     0.23.2\n",
      "STAR      2.7.11b\n",
      "samtools  1.20\n",
      "RSeQC     5.0.4\n",
      "RSEM      1.3.3\n",
      "MultiQC   1.27.1\n",
      "-----\n"
     ]
    }
   ],
   "source": [
    "print((\"\\n\").join([\"-----\", \"FastQC    0.12.1\", \"fastp     0.23.2\", \"STAR      2.7.11b\", \"samtools  1.20\", \"RSeQC     5.0.4\", \"RSEM      1.3.3\", \"MultiQC   1.27.1\", \"-----\"]))"
   ]
  }
 ],
 "metadata": {
  "kernelspec": {
   "display_name": "Py-3.12",
   "language": "python",
   "name": "py-3.12"
  },
  "language_info": {
   "codemirror_mode": {
    "name": "ipython",
    "version": 3
   },
   "file_extension": ".py",
   "mimetype": "text/x-python",
   "name": "python",
   "nbconvert_exporter": "python",
   "pygments_lexer": "ipython3",
   "version": "3.12.3"
  }
 },
 "nbformat": 4,
 "nbformat_minor": 4
}
