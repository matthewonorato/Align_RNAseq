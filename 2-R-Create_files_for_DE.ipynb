{
 "cells": [
  {
   "cell_type": "markdown",
   "id": "01618c8c-b02e-464f-bb4d-302fb8663d1c",
   "metadata": {
    "editable": true,
    "slideshow": {
     "slide_type": ""
    },
    "tags": []
   },
   "source": [
    "# Goals\n",
    "**[Script]** Merge data across samples, add gene/transcript annotations, and [normalize data](https://bigomics.ch/blog/why-how-normalize-rna-seq-data/) to account for technical variability and to limit false positives and negatives\n",
    "- Use VST for EDA (PCA), TPM for within sample comparisons, and CPM+TMM for across sample comparisons (DE)\n",
    "    - **Counts (input for normalization):** Do not use directly, as counts are unnormalized\n",
    "    - **VST (EDA):** Reduces the dependence of the variance on the mean\n",
    "    - **TPM (within sample):** Corrects for gene length (more reads for longer genes) and sequencing depth\n",
    "        - Log2TPM expression: <4 low , 4-6 intermediate, and >6 high expression \n",
    "    - **CPM+TMM (across samples):** Corrects for both sequencing depth and RNA composition bias\n",
    "    - **[TPM+TMM?](https://www.proteinatlas.org/about/assays+annotation#classification_rna) (across samples)**  Renormalize to account for different (or filtered) counts then TMM to correct for sample-level bias\n",
    "        - **Use Cases:** heterogeneous datasets like GTEx or HPA, different tissues, nucleus vs. cytoplasm, polyA vs. rRNA\n",
    "    - **z-score (across samples):** Removes the effect of outliers, usually highly expressed genes\n",
    "    - **Log-transformation:** Reduces skewness --> more normal distribution; makes patterns more visible\n",
    "        - Log scales are symmetrical (e.g. 8-fold up = 8-fold down)\n",
    "    - **Linear transformation / Scaling:** Unlike logging, scaling does not change skewness (same distribution)\n",
    "\n",
    "**[Overall]** Collect all metadata and expression data for downstream analysis (ex. to identify batch effects and outlier samples before DE analysis)\n",
    "\n",
    "**[To Do]**\n",
    "1. Add this script to the end of the nextflow pipeline so it runs automatically"
   ]
  },
  {
   "cell_type": "markdown",
   "id": "95bac122-5a43-487d-934f-da4fa3961cd7",
   "metadata": {},
   "source": [
    "# Packages"
   ]
  },
  {
   "cell_type": "code",
   "execution_count": 2,
   "id": "0b7bbc9a-3095-4f89-9978-8a4c46a232e3",
   "metadata": {
    "scrolled": true
   },
   "outputs": [],
   "source": [
    "#####################\n",
    "### Normalization ###\n",
    "#####################\n",
    "library(\"edgeR\")\n",
    "library(\"DESeq2\")\n",
    "\n",
    "#####################\n",
    "### Data Cleaning ###\n",
    "#####################\n",
    "library(\"tidyverse\")\n",
    "library(\"data.table\")\n",
    "library(\"janitor\")\n",
    "library(\"openxlsx\")\n",
    "\n",
    "####################\n",
    "### Session Info ###\n",
    "####################\n",
    "library(\"sessioninfo\")"
   ]
  },
  {
   "cell_type": "markdown",
   "id": "12b118c6-f04f-4a53-ae76-4b5f1debba82",
   "metadata": {},
   "source": [
    "## Options"
   ]
  },
  {
   "cell_type": "code",
   "execution_count": null,
   "id": "11868f31-6608-4f37-a0b2-ed39ee11b54e",
   "metadata": {},
   "outputs": [],
   "source": [
    "options(warn = 1)\n",
    "options(repr.matrix.max.cols=200, repr.matrix.max.rows=200)"
   ]
  },
  {
   "cell_type": "markdown",
   "id": "fcd274b3-1cb3-4553-b461-16e527cad91e",
   "metadata": {},
   "source": [
    "## Functions"
   ]
  },
  {
   "cell_type": "code",
   "execution_count": null,
   "id": "51e85f71-ce27-47fe-963e-59bfbfc54311",
   "metadata": {},
   "outputs": [],
   "source": [
    "merge_counts = function(file_paths, count_col, merge_cols) {\n",
    "    sample_names = basename(file_paths) %>% str_remove(\"\\\\..*$\")\n",
    "    \n",
    "    list_of_dfs = map2(file_paths, sample_names,\n",
    "        ~ fread(.x) %>% select(all_of(c({{merge_cols}}, {{count_col}}))) %>%\n",
    "        rename(!!.y := {{count_col}}))\n",
    "    \n",
    "    df = reduce(list_of_dfs, full_join, by={{merge_cols}})\n",
    "    return(df)\n",
    "}"
   ]
  },
  {
   "cell_type": "code",
   "execution_count": null,
   "id": "66f98d62-60e3-4d58-92c1-92a450f94dac",
   "metadata": {},
   "outputs": [],
   "source": [
    "normalize_counts = function(df, id_col, method) {\n",
    "    df_norm = df %>% column_to_rownames({{id_col}}) %>% as.matrix()\n",
    "    \n",
    "    if (method==\"CPM\"){\n",
    "        df_norm = df_norm %>% edgeR::cpm(normalized.lib.sizes=TRUE, log=TRUE, prior.count=2)\n",
    "    } else if (method==\"VST\"){\n",
    "        df_norm = df_norm %>% DESeq2::vst(blind=FALSE, nsub=1000, fitType=\"parametric\")\n",
    "    } else if (method==\"zscore\"){\n",
    "        df_norm = df_norm %>% scale(center=TRUE, scale=TRUE)\n",
    "    } else{\n",
    "        stop(\"Error: Method must be one of 'CPM', 'VST', or 'zscore'\")\n",
    "    }\n",
    "    df_norm = df_norm %>% as.data.frame() %>% rownames_to_column({{id_col}})\n",
    "    return(df_norm)\n",
    "}"
   ]
  },
  {
   "cell_type": "markdown",
   "id": "7453a254-41ec-42fc-8885-499af72bf4fb",
   "metadata": {},
   "source": [
    "# Parameters"
   ]
  },
  {
   "cell_type": "markdown",
   "id": "e98913a5-8570-473e-b505-f8ecb8bea9ce",
   "metadata": {},
   "source": [
    "## Inputs"
   ]
  },
  {
   "cell_type": "code",
   "execution_count": null,
   "id": "ac6b194a-fd2b-41ce-8ad6-848542414f20",
   "metadata": {},
   "outputs": [],
   "source": [
    "project_name = \"GSE206529\"\n",
    "\n",
    "output_path = file.path(\"../../outputs\", project_name)\n",
    "\n",
    "star_path = file.path(output_path, \"star_output\")\n",
    "star_log_files = list.files(star_path, full.names=TRUE, pattern=\"*_Log.final.out\")\n",
    "\n",
    "rsem_path = file.path(output_path, \"rsem_output\")\n",
    "rsem_gene_files = list.files(rsem_path, full.names=TRUE, pattern=\"*.genes.results\")\n",
    "rsem_transcript_files = list.files(rsem_path, full.names=TRUE, pattern=\"*.isoforms.results\")"
   ]
  },
  {
   "cell_type": "code",
   "execution_count": null,
   "id": "529ecc9f-1e38-4142-b921-c4e9a8d67db0",
   "metadata": {},
   "outputs": [],
   "source": [
    "gene_ann_file = \"/mnt/disks/resources/data/references/outputs/Homo_sapiens/ensembl/111/Homo_sapiens.GRCh38.111.genes.sorted.bed\"\n",
    "transcript_ann_file = \"/mnt/disks/resources/data/references/outputs/Homo_sapiens/ensembl/111/Homo_sapiens.GRCh38.111.transcripts.sorted.bed\""
   ]
  },
  {
   "cell_type": "markdown",
   "id": "985fbf0f-cdcb-4f6f-bb64-aaa795bfce33",
   "metadata": {},
   "source": [
    "## Outputs"
   ]
  },
  {
   "cell_type": "code",
   "execution_count": null,
   "id": "5bb0e4c8-241b-4080-9c28-742c46088773",
   "metadata": {},
   "outputs": [],
   "source": [
    "merged_path = file.path(output_path, \"merged_files\")\n",
    "dir.create(merged_path, recursive=TRUE, showWarnings=FALSE)\n",
    "\n",
    "results_path = file.path(\"../../results\", project_name)\n",
    "dir.create(results_path, recursive=TRUE, showWarnings=FALSE)\n",
    "\n",
    "# Count files; All other files will be named from these\n",
    "gene_counts_file = file.path(merged_path, paste0(project_name, \"_genes_raw_counts.csv\"))\n",
    "transcript_counts_file = file.path(merged_path, paste0(project_name, \"_transcripts_raw_counts.csv\"))\n",
    "\n",
    "# Final Excel files with multiple tabs (ex. \"Counts\", \"TPM\", \"Log2CPM\")\n",
    "gene_excel_file = file.path(results_path, paste0(project_name, \"_gene_data.xlsx\"))\n",
    "transcript_excel_file = file.path(results_path, paste0(project_name, \"_transcript_data.xlsx\"))"
   ]
  },
  {
   "cell_type": "markdown",
   "id": "27191071-e80f-4c57-8015-bd1018a4d04a",
   "metadata": {},
   "source": [
    "# Merge STAR log files"
   ]
  },
  {
   "cell_type": "code",
   "execution_count": null,
   "id": "77f23bf8-726b-4b59-b7a0-2718832e263e",
   "metadata": {},
   "outputs": [],
   "source": [
    "sample_names = basename(star_log_files) %>% str_remove(\"_Log.final.out\")\n",
    "\n",
    "list_of_dfs = map2(star_log_files, sample_names,\n",
    "    ~ readLines(.x) %>%\n",
    "        .[str_detect(., \"\\\\|\")] %>%\n",
    "        str_split_fixed(\"\\\\|\", 2) %>%\n",
    "        as_tibble(.name_repair=\"minimal\") %>%\n",
    "        setNames(c(\"Metric\", .y)) %>%\n",
    "        mutate(across(everything(), str_trim)))\n",
    "                   \n",
    "df_star = reduce(list_of_dfs, full_join, by=c(\"Metric\"))\n",
    "\n",
    "star_merged_file = file.path(merged_path, paste0(project_name, \"_star_mapping_metrics.csv\"))\n",
    "write.csv(df_star, star_merged_file, row.names=FALSE)"
   ]
  },
  {
   "cell_type": "markdown",
   "id": "eab68934-b7f6-447b-b06a-549823ea51d0",
   "metadata": {},
   "source": [
    "# Get gene/transcript annotations"
   ]
  },
  {
   "cell_type": "code",
   "execution_count": null,
   "id": "3e1ceb5d-caaf-4f6b-a408-266ac20a2591",
   "metadata": {},
   "outputs": [],
   "source": [
    "df_transcript_ann = fread(transcript_ann_file) %>%\n",
    "    clean_names(replace=c(\"#\"=\"\")) %>%\n",
    "    select(transcript_id, transcript_biotype, gene_id, gene_name, gene_biotype, chr, start, end, strand) %>%\n",
    "    distinct() %>%\n",
    "    mutate(across(where(is.character), ~ na_if(., \"\")))\n",
    "\n",
    "df_gene_ann = fread(gene_ann_file) %>%\n",
    "    clean_names(replace=c(\"#\"=\"\")) %>%\n",
    "    left_join(df_transcript_ann %>% select(gene_id, gene_name, gene_biotype) %>% distinct(), by=\"gene_id\") %>%\n",
    "    select(gene_id, gene_name, gene_biotype, chr, start, end, strand) %>%\n",
    "    distinct() %>%\n",
    "    mutate(across(where(is.character), ~ na_if(., \"\")))"
   ]
  },
  {
   "cell_type": "markdown",
   "id": "ef62d1b3-7fc5-4b6b-b6e2-301e6db4d0fc",
   "metadata": {},
   "source": [
    "# Merge RSEM files\n",
    "- **Counts:** rounded to nearest integer for integer-based tools (ex. edgeR's cpm() uses a discrete probability distribution)\n",
    "    - Why are there decimals in RSEM's expected_counts? RSEM handles ambiguous read mapping by fractionally assigning reads to several genes\n",
    "- **TPM:** RSEM normalizes counts by transcript effective length (based on IsoPct) then by library size aka sequencing depth (total reads per sample / 1M)\n",
    "    - Why gene length? Since longer genes inherently produce more reads than shorter genes at equal expression level\n",
    "    - Why sequencing depth? to account for unequal RNA input (e.g. extraction efficiency, degradation)\n",
    "        - **Note:** If not all genes are present, sequencing depth cannot be calculated"
   ]
  },
  {
   "cell_type": "code",
   "execution_count": null,
   "id": "1e9d1fcd-d58c-4ca8-87fc-97b6ff63a298",
   "metadata": {},
   "outputs": [],
   "source": [
    "# Genes\n",
    "df_gene_counts = merge_counts(rsem_gene_files, \"expected_count\", c(\"gene_id\")) %>%\n",
    "    mutate(across(where(is.numeric), ~ round(.x, digits=0)))\n",
    "df_gene_counts_ann = right_join(df_gene_ann, df_gene_counts, by=\"gene_id\")\n",
    "write.csv(df_gene_counts_ann, gene_counts_file, row.names=FALSE)\n",
    "\n",
    "df_gene_TPM = merge_counts(rsem_gene_files, \"TPM\", c(\"gene_id\"))\n",
    "df_gene_Log2TPM = df_gene_TPM %>% mutate(across(where(is.numeric), ~ log2(.x + 1)))\n",
    "df_gene_Log2TPM_ann = right_join(df_gene_ann, df_gene_Log2TPM, by=\"gene_id\")\n",
    "write.csv(df_gene_Log2TPM_ann, gsub(\"raw_counts\",\"Log2TPM\", gene_counts_file), row.names=FALSE)\n",
    "\n",
    "# Transcripts\n",
    "df_transcript_counts = merge_counts(rsem_transcript_files, \"expected_count\", c(\"transcript_id\")) %>%\n",
    "    mutate(across(where(is.numeric), ~ round(.x, digits=0)))\n",
    "df_transcript_counts_ann = right_join(df_transcript_ann, df_transcript_counts, by=c(\"transcript_id\"))\n",
    "write.csv(df_transcript_counts_ann, transcript_counts_file, row.names=FALSE)\n",
    "\n",
    "df_transcript_TPM = merge_counts(rsem_transcript_files, \"TPM\", c(\"transcript_id\"))\n",
    "df_transcript_Log2TPM = df_transcript_TPM %>% mutate(across(where(is.numeric), ~ log2(.x + 1)))\n",
    "df_transcript_Log2TPM_ann = right_join(df_transcript_ann, df_transcript_Log2TPM, by=c(\"transcript_id\"))\n",
    "write.csv(df_transcript_Log2TPM_ann, gsub(\"raw_counts\",\"Log2TPM\", transcript_counts_file), row.names=FALSE)\n",
    "\n",
    "df_transcript_IsoPct = merge_counts(rsem_transcript_files, \"IsoPct\", c(\"transcript_id\"))\n",
    "df_transcript_IsoPct_ann = right_join(df_transcript_ann, df_transcript_IsoPct, by=c(\"transcript_id\"))\n",
    "write.csv(df_transcript_IsoPct_ann, gsub(\"raw_counts\",\"IsoPct\", transcript_counts_file), row.names=FALSE)"
   ]
  },
  {
   "cell_type": "code",
   "execution_count": null,
   "id": "213e8403-cf4e-4cda-80bf-c6bd01036204",
   "metadata": {},
   "outputs": [],
   "source": [
    "# Write out genes or transcripts that aren't annotated; shouldn't happen as everything is from the same GTF file\n",
    "df_genes_unann = anti_join(df_gene_counts_ann, df_gene_ann)\n",
    "if (nrow(df_genes_unann)>0){\n",
    "    write.csv(df_genes_unann, gsub(\"raw_counts\",\"unannotated\", gene_counts_file), row.names=FALSE)\n",
    "}\n",
    "\n",
    "df_transcripts_unann = anti_join(df_transcript_counts_ann, df_transcript_ann)\n",
    "if (nrow(df_transcripts_unann)>0){\n",
    "    write.csv(df_transcripts_unann, gsub(\"raw_counts\",\"unannotated\", transcript_counts_file), row.names=FALSE)   \n",
    "}\n",
    "print(paste(nrow(df_genes_unann), \"genes not annotated from GTF\"))\n",
    "print(paste(nrow(df_transcripts_unann), \"transcripts not annotated from GTF\"))"
   ]
  },
  {
   "cell_type": "markdown",
   "id": "457ebed0-6f61-4675-b0eb-2778097ba936",
   "metadata": {},
   "source": [
    "# Normalize data"
   ]
  },
  {
   "cell_type": "markdown",
   "id": "80e70805-4f89-4c89-af61-808daa996d69",
   "metadata": {},
   "source": [
    "## CPM + TMM + Log2\n",
    "- [Trimmed mean of M-values (TMM)](https://bioconductor.org/packages/release/bioc/vignettes/edgeR/inst/doc/edgeRUsersGuide.pdf) normalization adjusts library sizes by trimming extreme values and weighting observations, thereby enabling accurate comparison of gene expression **across samples**\n",
    "    - Extreme values, such as highly expressed genes, can negatively impact normalization (trimmed for this reason)\n",
    "    - Assumes majority of genes are not differentially expressed between samples (true in almost all cases)\n",
    "    - TMMwsp: more stable performance when the counts have a high proportion of zeros\n",
    "    - `edgeR::normLibSizes`: What does effective library size mean?\n",
    "        - <1: Few high count genes are lowering other counts --> library size scaled down to scale counts up\n",
    "        - \\>1: Many low count genes --> library size scaled up to scale counts down"
   ]
  },
  {
   "cell_type": "code",
   "execution_count": null,
   "id": "4e777513-4d5f-44f4-af54-41c777d40996",
   "metadata": {},
   "outputs": [],
   "source": [
    "# CPM + TMM norm with log2 transformation\n",
    "df_gene_Log2CPM = normalize_counts(df_gene_counts, id_col=\"gene_id\", method=\"CPM\")\n",
    "df_gene_Log2CPM_ann = right_join(df_gene_ann, df_gene_Log2CPM, by=\"gene_id\")\n",
    "write.csv(df_gene_Log2CPM_ann, gsub(\"raw_counts\",\"Log2CPM\", gene_counts_file), row.names=FALSE)\n",
    "\n",
    "df_transcript_Log2CPM = normalize_counts(df_transcript_counts, id_col=\"transcript_id\", method=\"CPM\")\n",
    "df_transcript_Log2CPM_ann = right_join(df_transcript_ann, df_transcript_Log2CPM, by=\"transcript_id\")\n",
    "write.csv(df_transcript_Log2CPM_ann, gsub(\"raw_counts\",\"Log2CPM\", transcript_counts_file), row.names=FALSE)"
   ]
  },
  {
   "cell_type": "markdown",
   "id": "b28179ce-b3bb-4366-8281-1e5871a7682c",
   "metadata": {},
   "source": [
    "## VST\n",
    "- Variance Stabilizing Transformation (VST)\n",
    "    - Variance is stabilized across the range of mean values\n",
    "        - Makes data more homoscedastic (constant variance along the range of mean values)\n",
    "    - Also normalizes with respect to library size\n",
    "        - Like voom, vst is useful when there is a large difference in library sizes\n",
    "    - Can improve detection of differentially expressed genes and reduce false-positives"
   ]
  },
  {
   "cell_type": "code",
   "execution_count": null,
   "id": "feef8012-0fe7-4ec5-a5b9-77bfd61ecfba",
   "metadata": {},
   "outputs": [],
   "source": [
    "# VST: Uses defaults - 1000 genes to estimate dispersion trend (faster) with parametric fit\n",
    "df_gene_VST = normalize_counts(df_gene_counts, id_col=\"gene_id\", method=\"VST\")\n",
    "df_gene_VST_ann = right_join(df_gene_ann, df_gene_VST, by=\"gene_id\")\n",
    "write.csv(df_gene_VST_ann, gsub(\"raw_counts\",\"VST\", gene_counts_file), row.names=FALSE)\n",
    "\n",
    "df_transcript_VST = normalize_counts(df_transcript_counts, id_col=\"transcript_id\", method=\"VST\")\n",
    "df_transcript_VST_ann = right_join(df_transcript_ann, df_transcript_VST, by=\"transcript_id\")\n",
    "write.csv(df_transcript_VST_ann, gsub(\"raw_counts\",\"VST\", transcript_counts_file), row.names=FALSE)"
   ]
  },
  {
   "cell_type": "markdown",
   "id": "c066f48a-d11e-4cd0-bbc7-95bd19ef9e3f",
   "metadata": {},
   "source": [
    "## z-score\n",
    "- **z-score (across samples):** Removes the effect of outliers, usually highly expressed genes\n",
    "    - Z score equation: z_score = value - mean(values) / sd(values)\n",
    "        - Modified Z score uses median instead of mean to further alleviate outlier effect\n",
    "    - **Note:** Use sparingly as Z-score normalization is considered \"drastic\" (changes read distribution and removes info. about low/high genes)\n",
    "    - **Use Cases:** Gene signature score (all genes equal for scoring), PCA (an outlier sample indicates transcriptome wide differences that affect all genes, not just the highest expressed)"
   ]
  },
  {
   "cell_type": "code",
   "execution_count": null,
   "id": "f8fdcbc0-2358-4709-b790-4ea674a55325",
   "metadata": {},
   "outputs": [],
   "source": [
    "df_gene_zscore = normalize_counts(df_gene_counts, id_col=\"gene_id\", method=\"zscore\")\n",
    "df_gene_zscore_ann = right_join(df_gene_ann, df_gene_zscore, by=\"gene_id\")\n",
    "write.csv(df_gene_zscore_ann, gsub(\"raw_counts\",\"zscore\", gene_counts_file), row.names=FALSE)\n",
    "\n",
    "df_transcript_zscore = normalize_counts(df_transcript_counts, id_col=\"transcript_id\", method=\"zscore\")\n",
    "df_transcript_zscore_ann = right_join(df_transcript_ann, df_transcript_zscore, by=\"transcript_id\")\n",
    "write.csv(df_transcript_zscore_ann, gsub(\"raw_counts\",\"zscore\", transcript_counts_file), row.names=FALSE)"
   ]
  },
  {
   "cell_type": "markdown",
   "id": "8e4aaf35-96ba-4146-8233-d6dffda62c5a",
   "metadata": {},
   "source": [
    "# Write to Excel"
   ]
  },
  {
   "cell_type": "code",
   "execution_count": null,
   "id": "c911ca19-8808-4b3f-8300-7a2feb59ed79",
   "metadata": {},
   "outputs": [],
   "source": [
    "gene_list = list(\n",
    "    \"Counts\"  = df_gene_counts_ann,\n",
    "    \"Log2TPM\" = df_gene_Log2TPM_ann,\n",
    "    \"Log2CPM\" = df_gene_Log2CPM_ann,\n",
    "    \"VST\"     = df_gene_VST_ann,\n",
    "    \"zscore\"  = df_gene_zscore_ann)\n",
    "\n",
    "hs = createStyle(fontColour=\"black\", fgFill=\"#FFFFCC\", halign=\"left\", textDecoration=\"bold\")\n",
    "\n",
    "write.xlsx(gene_list, headerStyle=hs, borders=\"all\",\n",
    "           firstActiveRow=2, firstActiveCol=8, withFilter=TRUE,\n",
    "           file=gene_excel_file)"
   ]
  },
  {
   "cell_type": "code",
   "execution_count": null,
   "id": "1695bb2a-8948-46c9-ab95-2fd348ee655f",
   "metadata": {},
   "outputs": [],
   "source": [
    "transcript_list = list(\n",
    "    \"Counts\"  = df_transcript_counts_ann,\n",
    "    \"Log2TPM\" = df_transcript_Log2TPM_ann,\n",
    "    \"Log2CPM\" = df_transcript_Log2CPM_ann,\n",
    "    \"VST\"     = df_transcript_VST_ann,\n",
    "    \"zscore\"  = df_transcript_zscore_ann,\n",
    "    \"IsoPct\"  = df_transcript_IsoPct_ann)\n",
    "\n",
    "hs = createStyle(fontColour=\"black\", fgFill=\"#FFFFCC\", halign=\"left\", textDecoration=\"bold\")\n",
    "\n",
    "write.xlsx(transcript_list, headerStyle=hs, borders=\"all\",\n",
    "           firstActiveRow=2, firstActiveCol=10, withFilter=TRUE,\n",
    "           file=transcript_excel_file)"
   ]
  },
  {
   "cell_type": "markdown",
   "id": "ef111b0e-0348-4e4e-b32b-e1f9406fa86b",
   "metadata": {},
   "source": [
    "# QC"
   ]
  },
  {
   "cell_type": "code",
   "execution_count": null,
   "id": "d701d33d-d339-447c-9fa3-73fcc2fbac6e",
   "metadata": {},
   "outputs": [],
   "source": [
    "# TPM should sum to 1 million for each sample\n",
    "colSums(df_gene_TPM %>% select(-gene_id), na.rm=TRUE) %>% round(0) / 1e6\n",
    "colSums(df_transcript_TPM %>% select(-transcript_id), na.rm=TRUE) %>% round(0) / 1e6"
   ]
  },
  {
   "cell_type": "code",
   "execution_count": null,
   "id": "e627adb0-0d75-4b9d-ab6a-05ac7d347546",
   "metadata": {},
   "outputs": [],
   "source": [
    "# z score mean should be 0 and sd should be 1 for each sample\n",
    "colMeans(df_gene_zscore %>% select(-gene_id), na.rm=TRUE) %>% round(3)\n",
    "matrixStats::colSds(df_gene_zscore %>% select(-gene_id) %>% as.matrix(), na.rm=TRUE) %>% round(3)\n",
    "\n",
    "colMeans(df_transcript_zscore %>% select(-transcript_id), na.rm=TRUE) %>% round(3)\n",
    "matrixStats::colSds(df_transcript_zscore %>% select(-transcript_id) %>% as.matrix(), na.rm=TRUE) %>% round(3)"
   ]
  },
  {
   "cell_type": "markdown",
   "id": "ce902578-391c-497b-b0fc-a1b29f7291a2",
   "metadata": {},
   "source": [
    "# Session info"
   ]
  },
  {
   "cell_type": "code",
   "execution_count": 3,
   "id": "0119af25-cd4a-4c7e-ad70-c43e1a516d80",
   "metadata": {},
   "outputs": [
    {
     "data": {
      "text/html": [
       "<table class=\"dataframe\">\n",
       "<caption>A tibble: 1 × 4</caption>\n",
       "<thead>\n",
       "\t<tr><th scope=col>version</th><th scope=col>os</th><th scope=col>system</th><th scope=col>date</th></tr>\n",
       "\t<tr><th scope=col>&lt;chr&gt;</th><th scope=col>&lt;chr&gt;</th><th scope=col>&lt;chr&gt;</th><th scope=col>&lt;chr&gt;</th></tr>\n",
       "</thead>\n",
       "<tbody>\n",
       "\t<tr><td>R version 4.4.0 (2024-04-24)</td><td>Ubuntu 22.04.4 LTS</td><td>x86_64, linux-gnu</td><td>2025-08-12</td></tr>\n",
       "</tbody>\n",
       "</table>\n"
      ],
      "text/latex": [
       "A tibble: 1 × 4\n",
       "\\begin{tabular}{llll}\n",
       " version & os & system & date\\\\\n",
       " <chr> & <chr> & <chr> & <chr>\\\\\n",
       "\\hline\n",
       "\t R version 4.4.0 (2024-04-24) & Ubuntu 22.04.4 LTS & x86\\_64, linux-gnu & 2025-08-12\\\\\n",
       "\\end{tabular}\n"
      ],
      "text/markdown": [
       "\n",
       "A tibble: 1 × 4\n",
       "\n",
       "| version &lt;chr&gt; | os &lt;chr&gt; | system &lt;chr&gt; | date &lt;chr&gt; |\n",
       "|---|---|---|---|\n",
       "| R version 4.4.0 (2024-04-24) | Ubuntu 22.04.4 LTS | x86_64, linux-gnu | 2025-08-12 |\n",
       "\n"
      ],
      "text/plain": [
       "  version                      os                 system            date      \n",
       "1 R version 4.4.0 (2024-04-24) Ubuntu 22.04.4 LTS x86_64, linux-gnu 2025-08-12"
      ]
     },
     "metadata": {},
     "output_type": "display_data"
    },
    {
     "data": {
      "text/html": [
       "<table class=\"dataframe\">\n",
       "<caption>A tibble: 26 × 2</caption>\n",
       "<thead>\n",
       "\t<tr><th scope=col>package</th><th scope=col>loadedversion</th></tr>\n",
       "\t<tr><th scope=col>&lt;chr&gt;</th><th scope=col>&lt;chr&gt;</th></tr>\n",
       "</thead>\n",
       "<tbody>\n",
       "\t<tr><td>Biobase             </td><td>2.64.0 </td></tr>\n",
       "\t<tr><td>BiocGenerics        </td><td>0.50.0 </td></tr>\n",
       "\t<tr><td>data.table          </td><td>1.15.0 </td></tr>\n",
       "\t<tr><td>DESeq2              </td><td>1.44.0 </td></tr>\n",
       "\t<tr><td>dplyr               </td><td>1.1.4  </td></tr>\n",
       "\t<tr><td>edgeR               </td><td>4.2.2  </td></tr>\n",
       "\t<tr><td>forcats             </td><td>1.0.0  </td></tr>\n",
       "\t<tr><td>GenomeInfoDb        </td><td>1.40.1 </td></tr>\n",
       "\t<tr><td>GenomicRanges       </td><td>1.56.1 </td></tr>\n",
       "\t<tr><td>ggplot2             </td><td>3.5.1  </td></tr>\n",
       "\t<tr><td>IRanges             </td><td>2.38.1 </td></tr>\n",
       "\t<tr><td>janitor             </td><td>2.2.0  </td></tr>\n",
       "\t<tr><td>limma               </td><td>3.60.6 </td></tr>\n",
       "\t<tr><td>lubridate           </td><td>1.9.3  </td></tr>\n",
       "\t<tr><td>MatrixGenerics      </td><td>1.16.0 </td></tr>\n",
       "\t<tr><td>matrixStats         </td><td>1.3.0  </td></tr>\n",
       "\t<tr><td>openxlsx            </td><td>4.2.7.1</td></tr>\n",
       "\t<tr><td>purrr               </td><td>1.0.2  </td></tr>\n",
       "\t<tr><td>readr               </td><td>2.1.5  </td></tr>\n",
       "\t<tr><td>S4Vectors           </td><td>0.42.1 </td></tr>\n",
       "\t<tr><td>sessioninfo         </td><td>1.2.3  </td></tr>\n",
       "\t<tr><td>stringr             </td><td>1.5.1  </td></tr>\n",
       "\t<tr><td>SummarizedExperiment</td><td>1.34.0 </td></tr>\n",
       "\t<tr><td>tibble              </td><td>3.2.1  </td></tr>\n",
       "\t<tr><td>tidyr               </td><td>1.3.1  </td></tr>\n",
       "\t<tr><td>tidyverse           </td><td>2.0.0  </td></tr>\n",
       "</tbody>\n",
       "</table>\n"
      ],
      "text/latex": [
       "A tibble: 26 × 2\n",
       "\\begin{tabular}{ll}\n",
       " package & loadedversion\\\\\n",
       " <chr> & <chr>\\\\\n",
       "\\hline\n",
       "\t Biobase              & 2.64.0 \\\\\n",
       "\t BiocGenerics         & 0.50.0 \\\\\n",
       "\t data.table           & 1.15.0 \\\\\n",
       "\t DESeq2               & 1.44.0 \\\\\n",
       "\t dplyr                & 1.1.4  \\\\\n",
       "\t edgeR                & 4.2.2  \\\\\n",
       "\t forcats              & 1.0.0  \\\\\n",
       "\t GenomeInfoDb         & 1.40.1 \\\\\n",
       "\t GenomicRanges        & 1.56.1 \\\\\n",
       "\t ggplot2              & 3.5.1  \\\\\n",
       "\t IRanges              & 2.38.1 \\\\\n",
       "\t janitor              & 2.2.0  \\\\\n",
       "\t limma                & 3.60.6 \\\\\n",
       "\t lubridate            & 1.9.3  \\\\\n",
       "\t MatrixGenerics       & 1.16.0 \\\\\n",
       "\t matrixStats          & 1.3.0  \\\\\n",
       "\t openxlsx             & 4.2.7.1\\\\\n",
       "\t purrr                & 1.0.2  \\\\\n",
       "\t readr                & 2.1.5  \\\\\n",
       "\t S4Vectors            & 0.42.1 \\\\\n",
       "\t sessioninfo          & 1.2.3  \\\\\n",
       "\t stringr              & 1.5.1  \\\\\n",
       "\t SummarizedExperiment & 1.34.0 \\\\\n",
       "\t tibble               & 3.2.1  \\\\\n",
       "\t tidyr                & 1.3.1  \\\\\n",
       "\t tidyverse            & 2.0.0  \\\\\n",
       "\\end{tabular}\n"
      ],
      "text/markdown": [
       "\n",
       "A tibble: 26 × 2\n",
       "\n",
       "| package &lt;chr&gt; | loadedversion &lt;chr&gt; |\n",
       "|---|---|\n",
       "| Biobase              | 2.64.0  |\n",
       "| BiocGenerics         | 0.50.0  |\n",
       "| data.table           | 1.15.0  |\n",
       "| DESeq2               | 1.44.0  |\n",
       "| dplyr                | 1.1.4   |\n",
       "| edgeR                | 4.2.2   |\n",
       "| forcats              | 1.0.0   |\n",
       "| GenomeInfoDb         | 1.40.1  |\n",
       "| GenomicRanges        | 1.56.1  |\n",
       "| ggplot2              | 3.5.1   |\n",
       "| IRanges              | 2.38.1  |\n",
       "| janitor              | 2.2.0   |\n",
       "| limma                | 3.60.6  |\n",
       "| lubridate            | 1.9.3   |\n",
       "| MatrixGenerics       | 1.16.0  |\n",
       "| matrixStats          | 1.3.0   |\n",
       "| openxlsx             | 4.2.7.1 |\n",
       "| purrr                | 1.0.2   |\n",
       "| readr                | 2.1.5   |\n",
       "| S4Vectors            | 0.42.1  |\n",
       "| sessioninfo          | 1.2.3   |\n",
       "| stringr              | 1.5.1   |\n",
       "| SummarizedExperiment | 1.34.0  |\n",
       "| tibble               | 3.2.1   |\n",
       "| tidyr                | 1.3.1   |\n",
       "| tidyverse            | 2.0.0   |\n",
       "\n"
      ],
      "text/plain": [
       "   package              loadedversion\n",
       "1  Biobase              2.64.0       \n",
       "2  BiocGenerics         0.50.0       \n",
       "3  data.table           1.15.0       \n",
       "4  DESeq2               1.44.0       \n",
       "5  dplyr                1.1.4        \n",
       "6  edgeR                4.2.2        \n",
       "7  forcats              1.0.0        \n",
       "8  GenomeInfoDb         1.40.1       \n",
       "9  GenomicRanges        1.56.1       \n",
       "10 ggplot2              3.5.1        \n",
       "11 IRanges              2.38.1       \n",
       "12 janitor              2.2.0        \n",
       "13 limma                3.60.6       \n",
       "14 lubridate            1.9.3        \n",
       "15 MatrixGenerics       1.16.0       \n",
       "16 matrixStats          1.3.0        \n",
       "17 openxlsx             4.2.7.1      \n",
       "18 purrr                1.0.2        \n",
       "19 readr                2.1.5        \n",
       "20 S4Vectors            0.42.1       \n",
       "21 sessioninfo          1.2.3        \n",
       "22 stringr              1.5.1        \n",
       "23 SummarizedExperiment 1.34.0       \n",
       "24 tibble               3.2.1        \n",
       "25 tidyr                1.3.1        \n",
       "26 tidyverse            2.0.0        "
      ]
     },
     "metadata": {},
     "output_type": "display_data"
    }
   ],
   "source": [
    "si = session_info(pkgs=\"attached\", to_file=FALSE)\n",
    "as_tibble(si$platform) %>% select(version, os, system, date)\n",
    "as_tibble(si$packages) %>% select(package, loadedversion)"
   ]
  }
 ],
 "metadata": {
  "kernelspec": {
   "display_name": "R 4.4",
   "language": "R",
   "name": "r-4.4"
  },
  "language_info": {
   "codemirror_mode": "r",
   "file_extension": ".r",
   "mimetype": "text/x-r-source",
   "name": "R",
   "pygments_lexer": "r",
   "version": "4.4.0"
  }
 },
 "nbformat": 4,
 "nbformat_minor": 5
}
